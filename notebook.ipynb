{
 "cells": [
  {
   "cell_type": "code",
   "execution_count": null,
   "metadata": {},
   "outputs": [],
   "source": [
    "import pandas as pd\n",
    "import numpy as np\n",
    "import matplotlib.pyplot as plt\n",
    "import seaborn as sns\n",
    "import math"
   ]
  },
  {
   "cell_type": "code",
   "execution_count": null,
   "metadata": {},
   "outputs": [],
   "source": [
    "df_treino = pd.read_csv(\"data/train.csv\")\n",
    "df_treino.head()"
   ]
  },
  {
   "cell_type": "code",
   "execution_count": null,
   "metadata": {},
   "outputs": [],
   "source": [
    "df_treino.info()"
   ]
  },
  {
   "cell_type": "code",
   "execution_count": null,
   "metadata": {},
   "outputs": [],
   "source": [
    "df_treino.nunique()"
   ]
  },
  {
   "cell_type": "code",
   "execution_count": null,
   "metadata": {},
   "outputs": [],
   "source": [
    "categorical_columns = df_treino.select_dtypes(include=['object'])\n",
    "categorical_columns.columns"
   ]
  },
  {
   "cell_type": "markdown",
   "metadata": {},
   "source": [
    "## Adicionar cálculo do IMC ao dataframe"
   ]
  },
  {
   "cell_type": "code",
   "execution_count": null,
   "metadata": {},
   "outputs": [],
   "source": [
    "df_treino['IMC'] = df_treino['Weight']/(pow(df_treino['Height'],2))"
   ]
  },
  {
   "cell_type": "code",
   "execution_count": null,
   "metadata": {},
   "outputs": [],
   "source": [
    "def resumir_df(df):\n",
    "    print(f'Formato do DataFrame:{df.shape}')\n",
    "    df_resumo = pd.DataFrame(df.dtypes, columns=['Tipo'])\n",
    "    df_resumo['Valores faltantes'] = df.isnull().sum().values\n",
    "    df_resumo['Percentual de valores faltantes'] = (df.isnull().sum().values / len(df) * 100)\n",
    "    df_resumo['Valores únicos'] = df.nunique().values\n",
    "    desc = pd.DataFrame(df.describe(include='all').transpose())\n",
    "    df_resumo['Min'] = desc['min'].values\n",
    "    df_resumo['Máx'] = desc['max'].values\n",
    "    return df_resumo.sort_values(by='Valores únicos', ascending=True)\n",
    "resumir_df(df_treino)"
   ]
  },
  {
   "cell_type": "markdown",
   "metadata": {},
   "source": [
    "## Significado das siglas das variáveis\n",
    "- FAVC: Frequência de consumo de comidas altamente calóricas\n",
    "- CAEC: Frequência de pequenas refeições entre as refeições principais\n",
    "- SMOKE: Variável binária que indica fumante ou não fumante\n",
    "- SCC: Variável binária que indica monitoramento de calorias consumidas\n",
    "- CALC: Variável binária que indica o consumo de álcool\n",
    "- MTRANS: Meio de transporte mais utilizado\n",
    "- NCP: Número de refeições por dia\n",
    "- FCVC: Frequência de consumo de vegetais em refeições\n",
    "- TUE: Tempo gasto em dispositivos tecnológicos \n",
    "- FAF: Frequência de atividade física\n",
    "- CH2O: Quantidade (em litros) de consumo diário de água"
   ]
  },
  {
   "cell_type": "markdown",
   "metadata": {},
   "source": [
    "## Análise de frequência das variáveis"
   ]
  },
  {
   "cell_type": "code",
   "execution_count": null,
   "metadata": {},
   "outputs": [],
   "source": [
    "def plot_variables_frequency(df: pd.DataFrame):\n",
    "\n",
    "    cols_to_plot = [col for col in df.columns if col not in ('id')]\n",
    "    num_variables = len(df.columns)\n",
    "    num_columns = 3\n",
    "    num_rows = math.ceil(num_variables / num_columns)\n",
    "    \n",
    "    plt.figure(figsize=(15, 5 * num_rows))  # Adjust the figure size accordingly\n",
    "\n",
    "    \n",
    "    for i, col in enumerate(cols_to_plot):\n",
    "        plt.subplot(num_rows, num_columns, i % num_columns + 1 + (i // num_columns) * num_columns)\n",
    "        if df[col].dtype == 'object':\n",
    "            sns.histplot(df, y=col, bins=10, color='green', legend=False, shrink=.8)\n",
    "        else:\n",
    "            sns.histplot(df, x=col, bins=10, color='green', kde=True)\n",
    "        plt.title(f'Histograma de {col}')\n",
    "        \n",
    "\n",
    "    plt.tight_layout()\n",
    "    plt.show()\n",
    "plot_variables_frequency(df_treino)"
   ]
  },
  {
   "cell_type": "markdown",
   "metadata": {},
   "source": [
    "## Análise multivariável"
   ]
  },
  {
   "cell_type": "code",
   "execution_count": null,
   "metadata": {},
   "outputs": [],
   "source": [
    "def plot_variables_boxplot(df: pd.DataFrame):\n",
    "\n",
    "    cols_to_plot = [col for col in df.columns if (col not in ('id', 'NObeyesdad') and df[col].dtype!='object')]\n",
    "    num_variables = len(df.columns)\n",
    "    num_columns = 2\n",
    "    num_rows = math.ceil(num_variables / num_columns)\n",
    "    \n",
    "    plt.figure(figsize=(15, 5 * num_rows))  # Adjust the figure size accordingly\n",
    "    obesity_level_order = ['Obesity_Type_III', 'Obesity_Type_II', 'Obesity_Type_I', 'Overweight_Level_II', \n",
    "                           'Overweight_Level_I', 'Normal_Weight', 'Insufficient_Weight']\n",
    "    \n",
    "    for i, col in enumerate(cols_to_plot):\n",
    "        plt.subplot(num_rows, num_columns, i % num_columns + 1 + (i // num_columns) * num_columns)\n",
    "        sns.boxplot(df, y='NObeyesdad', x=col, hue='NObeyesdad', order=obesity_level_order)\n",
    "        plt.title(f'Boxplot de {col}')\n",
    "        \n",
    "\n",
    "    plt.tight_layout()\n",
    "    plt.show()\n",
    "plot_variables_boxplot(df_treino)"
   ]
  },
  {
   "cell_type": "code",
   "execution_count": null,
   "metadata": {},
   "outputs": [],
   "source": [
    "def plot_variables_grouped_by_obesity(df: pd.DataFrame):\n",
    "\n",
    "    cols_to_plot = [col for col in df.columns if (col not in ('id', 'NObeyesdad') and df[col].dtype=='object')]\n",
    "    num_variables = len(cols_to_plot)\n",
    "    num_columns = 2\n",
    "    num_rows = math.ceil(num_variables / num_columns)\n",
    "    \n",
    "    fig, axs = plt.subplots(num_rows, num_columns, figsize=(15, num_rows * 5))\n",
    "    obesity_level_order = ['Insufficient_Weight', 'Normal_Weight', 'Overweight_Level_I', 'Overweight_Level_II', \n",
    "                           'Obesity_Type_I', 'Obesity_Type_II', 'Obesity_Type_III']\n",
    "    \n",
    "    for i, col in enumerate(cols_to_plot):\n",
    "        col_data = df.groupby('NObeyesdad')[col].value_counts().unstack()\n",
    "        col_data = col_data.reindex(obesity_level_order)\n",
    "        col_data.plot(kind='bar', stacked=True, ax=axs[i//num_columns, i%num_columns])\n",
    "        axs[i//num_columns, i%num_columns].set_title(f'Agrupamento de {col}')\n",
    "        axs[i//num_columns, i%num_columns].tick_params(axis='x', rotation=30)\n",
    "        \n",
    "\n",
    "    plt.tight_layout()\n",
    "    plt.show()\n",
    "plot_variables_grouped_by_obesity(df_treino)"
   ]
  }
 ],
 "metadata": {
  "kernelspec": {
   "display_name": "venv",
   "language": "python",
   "name": "python3"
  },
  "language_info": {
   "codemirror_mode": {
    "name": "ipython",
    "version": 3
   },
   "file_extension": ".py",
   "mimetype": "text/x-python",
   "name": "python",
   "nbconvert_exporter": "python",
   "pygments_lexer": "ipython3",
   "version": "3.10.11"
  }
 },
 "nbformat": 4,
 "nbformat_minor": 2
}
