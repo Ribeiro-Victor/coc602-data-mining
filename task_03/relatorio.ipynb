{
 "cells": [
  {
   "cell_type": "markdown",
   "metadata": {},
   "source": [
    "# Previsão para linhas de ônibus na cidade do Rio de Janeiro"
   ]
  },
  {
   "cell_type": "markdown",
   "metadata": {},
   "source": [
    "<b>Aluno: Victor Ribeiro </b>\n",
    "<br>\n",
    "<b>DRE: 120035521</b>\n",
    "<br>\n",
    "<b>Senha: \"\""
   ]
  },
  {
   "cell_type": "markdown",
   "metadata": {},
   "source": [
    "O objetivo deste trabalho é apresentar uma solução em Python que seja capaz de prever:\n",
    " - A posição de um ônibus a partir dado um horário\n",
    " - O horário a partir da posição do um ônibus\n",
    "\n",
    "Este relatório tem como objetivo apresentar os resultados obtidos. Devido ao tamanho e complexidade do trabalho, o código está disponível no seguinte repositório do github: (https://github.com/Ribeiro-Victor/coc602-data-mining/tree/main/task_03)"
   ]
  },
  {
   "cell_type": "markdown",
   "metadata": {},
   "source": [
    "### 1 - Preparação dos dados"
   ]
  },
  {
   "cell_type": "markdown",
   "metadata": {},
   "source": [
    "Os dados de GPS dos ônibus usados para criar o modelo vieram de arquivos JSON, dividos em intervalos de 1 hora, do dia 25/04/2024 à 10/05/2024. \n",
    "Os arquivos de teste usados para fazer a previsão constam do dia 16/05/2024 à 20/05/2024.\n",
    "Inicialmente, foi necessário carregar os dados do GPS em um banco de dados PostgreSQL usando a extensão PostGIS. Para isso, alguns filtros foram usados para selecionar apenas os dados úteis, diminuindo o tempo de interação com o banco e o tamanho em disco:\n",
    "- Ao analisar os arquivos de teste, selecionei apenas a linhas que seriam usadas na previsão. Dessa forma, apenas 48 linhas de ônibus do conjunto de arquivos de treino foram utilizadas. As demais, não foram carregadas ao banco.\n",
    "- Para carregar o banco, transformei os arquivos JSON em planilhas CSV e usei o método COPY do PostgreSQL, diminuindo consideravelmente o tempo de inserção.\n",
    "- Ao criar a tabela, dividi a mesma em partições por dias, facilitando a execução das consultas na tabela.\n",
    "\n",
    "O código para essa parte do trabalho pode ser encontrado neste [notebook](./notebooks/load_gps_into_db.ipynb)."
   ]
  },
  {
   "cell_type": "markdown",
   "metadata": {},
   "source": [
    "### 2 - Identificação das garagens de ônibus"
   ]
  },
  {
   "cell_type": "markdown",
   "metadata": {},
   "source": [
    "Com o objetivo criar os trajetos de cada linha de ônibus, foi necessário primeiro detectar os ônibus que estavam parados na garagem. Essa identificação permitiu filtrar os dados, removendo os pontos onde os ônibus estavam na garagem ou em trajeto de ida/volta.<br><br>\n",
    "Para encontrar estes pontos, utilizei apenas os dados onde os ônibus estavam parados (velocidade = 0) e no horário da madrugada (entre 23h-4h). Após coletar estes dados do banco de dados, utilizei o DBScan para criar clusters com um raio de 100 metros. Como resultado, encontrei 21 clusters que eram referentes à garagem de ônibus. Realizei uma dupla checagem, conferindo GoogleMaps/OpenStreetMap e verificando que estes pontos realmente eram garagens. <br>\n",
    "Obtive o ponto central de cada cluster e inclui em um tabela no banco de dados.\n",
    "\n",
    "O código para essa parte do trabalho pode ser encontrado neste [notebook](./notebooks/find_bus_garage.ipynb)."
   ]
  },
  {
   "cell_type": "markdown",
   "metadata": {},
   "source": [
    "### 3 - Identificação dos pontos finais e iniciais para cada linha de ônibus"
   ]
  },
  {
   "cell_type": "markdown",
   "metadata": {},
   "source": [
    "Para identificar os pontos finais e iniciais para cada linha de ônibus, fiz o seguinte trabalho:\n",
    "- Selecionei todos os dados do GPS no banco de dados que estavam fora de um raio de 200 metros de qualquer ponto de garagem identificado anteriormente.\n",
    "- Depois, ordenei os pontos por identificador do ônibus e datahora. Então, para cada intervalo de 10 minutos, se o ônibus permaneceu em um raio de 10 metros, estes pontos na janela de 10 minutos são considerados como potenciais pontos finais. \n",
    "- Após esta filtragem, usando os potenciais pontos finais, apliquei o DBscan com um raio de 100 metros. Por conta do filtro anterior, consegui fazer com que pontos de engarrafamento frequente não intereferissem no uso do DBscan e obtive um resultado muito preciso.\n",
    "- Por fim, para cada linha de ônibus, coloquei os 3 maiores clusters no mapa e verifiquei manualmente quais dois eram os pontos finais. Em geral, a verificação foi fácil pois os dois clusters mais povoados eram realmente os pontos finais. Com exceção das linhas \"3\" e \"878\". Esta última, possui um \"terceiro\" ponto no meio do caminho onde os ônibus fazem uma longa parada perto do metrô do Jardim Oceânico.\n",
    "Abaixo, um mapa dos pontos finais das linhas.\n",
    "\n",
    "O código para essa parte do trabalho pode ser encontrado neste [notebook](./notebooks/find_bus_final_stops.ipynb)."
   ]
  },
  {
   "cell_type": "markdown",
   "metadata": {},
   "source": [
    "![Pontos finais](img/map_all_bus_stops.png)"
   ]
  },
  {
   "cell_type": "markdown",
   "metadata": {},
   "source": [
    "### 4 - Identificação dos trajetos dos ônibus"
   ]
  },
  {
   "cell_type": "markdown",
   "metadata": {},
   "source": [
    "Com os pontos finais de cada linha mapeados, foi possível determinar os trajetos de ida e volta dos ônibus. A estrutura para o cálculo dos trajetos de cada linha foi a seguinte:\n",
    "- Decidi dividir os trajetos entre \"WEEKDAY\", \"SABADO\" e \"DOMINGO\", pois conheço linhas de ônibus que mudam os trajetos aos fins de semana devido ao fechamento de vias.\n",
    "- Para cada grupo de dias, selecionei do banco de dados as posições de GPS dos dias correspondentes entre 8h e 23h. Depois ordenei as posições por identificador do ônibus e datahora.\n",
    "- Ao iterar sobre o dataframe, buscava primeiro um ponto que estive em um raio de 20m de um dos pontos finais da linha.\n",
    "- A partir desse ponto criei uma linestring com todos os pontos até que este mesmo ônibus chegasse ao raio de 20m outro ponto da linha. Assim, obtive um trajeto válido, desconsiderando casos em que houve um salto muito grande de tempo ou distância entre dois pontos consecutivos para um mesmo ônibus.\n",
    "- Com todos os trajetos identificados, selecionei como o melhor trajeto aquele que possui a distância total do trajeto mais próxima da mediana das distâncias dos trajetos calculados. Essa aproximação forneceu bons resultados, apesar de saber que se conseguisse interpolar mais pontos usando todos os trajetos, conseguria obter uma \"LineString\" mais precisa para o trajeto.\n",
    "- Selecionei o melhor trajeto de ida e o de volta e coloquei no banco de dados, para cada linha e cada conjunto de dias. Portanto, cada linha possui 6 trajetos diferentes.\n",
    "Abaixo, uma representação gráfica de todos os trajetos de \"WEEKDAY\" para as linhas de ônibus analisadas.\n",
    "\n",
    "O código para essa parte do trabalho pode ser encontrado neste [arquivo](./notebooks/create_trajectories.py)."
   ]
  },
  {
   "cell_type": "markdown",
   "metadata": {},
   "source": [
    "![Rotas de ônibus](img/map_all_bus_routes.png)"
   ]
  },
  {
   "cell_type": "markdown",
   "metadata": {},
   "source": [
    "### 5.1 - Previsão das posições de latitude e longitude"
   ]
  },
  {
   "cell_type": "markdown",
   "metadata": {},
   "source": [
    "Com os trajetos identificados, a próxima etapa foi prever as posições de latitude e longitude para cada ônibus de cada linha, usando as informações de 2 horas anteriores de trânsito e o timestamp necessário para a previsão. Para isso, executei os seguintes passos para cada linha:\n",
    "- Carreguei os dados dos trajetos do banco de dados e carreguei as informações sobre o trânsito nas duas horas anteriores.\n",
    "- A partir dos dados de treino, exclui todos os dados de ônibus que estavam fora de um raio de 60m do trajeto da linha. Portanto, alguns ônibus não fizeram parte da previsão. Estes, em sua maioria, eram ônibus fora do trajeto ou parados em garagens.\n",
    "- Ordenei o dataframe por identificador do ônibus e datahora, e mantive um rastreamento de cada ônibus nas horas anteriores. Para cada ponto encontrado, fiz a projeção do mesmo no trajeto correspondente (ida ou volta) e calculei iterativamente a distância percorrida em cada intervalo de tempo. Com esses dados, pude estimar as velocidades médias de ida e volta em cada um dos trajetos para a linha, além do tempo médio gasto nos pontos finais e iniciais.\n",
    "- Para prever as posições pela próxima hora para cada ônibus, utilizei os dados anteriores de velocidade média no trajeto, tempo médio nas paradas e a última posição conhecida. A partir daí, fui calculando as próximas posições como pontos projetados no trajeto correspondente com base na última localização. \n",
    "- Portanto, se a última posição conhecida indica que o ônibus estava no trajeto de ida, usando o timestamp fornecido e a velocidade média calculada, obtive a distância que deveria ter sido percorrida neste intervalo de tempo. Com as distâncias calculadas, encontrei os pontos projetados no trajeto de ida até que chegasse ao ponto final. Chegando ao ponto final, sua posição permanece a mesma pelo tempo médio nas paradas identificado anteriormente. Passado este tempo, o ônibus troca de direção e a previsão de posição passa a ser feita da mesma forma, com o trajeto de volta.\n",
    "\n",
    "O código para essa parte do trabalho pode ser encontrado neste [notebook](./notebooks/predict_lat_long.ipynb).\n",
    "\n",
    "Abaixo, seguem os resultados (RMSE) obtidos com esse modelo de previsão.\n",
    "\n",
    "<hr>\n"
   ]
  },
  {
   "cell_type": "markdown",
   "metadata": {},
   "source": [
    "Utilizando os dados disponibilizados inicialmente e com arquivo de resposta, calculei o RMSE localmente (sem usar a API). Dessa forma, consegui calcular o RMSE por linha de ônibus e obter um resultado mais direcionado."
   ]
  },
  {
   "cell_type": "markdown",
   "metadata": {},
   "source": [
    "![RMSE por datahora](img/RMSE_lat_long.png)"
   ]
  },
  {
   "cell_type": "markdown",
   "metadata": {},
   "source": [
    "![RMSE por datahora](img/RMSE_lat_long_linhas.png)"
   ]
  },
  {
   "cell_type": "markdown",
   "metadata": {},
   "source": [
    "Observando o gráfico acima, dividido por linhas, é perceptível que 3 linhas tiveram desempenhos bem distoantes (3, 2336 e 315).\n",
    "- A Linha 3 foi uma linha problemática desde o início do trabalho, pois não consegui identificar bem os pontos finais da linha e consequentemente os trajetos não devem representar o trajeto real.\n",
    "- As linhas 2336 e 315 são linhas que fazem o trajeto centro da cidade x zona oeste (campo grande e recreio). Portanto, era de se esperar que o erro em metros fosse maior já que os trajetos também são mais longos.\n",
    "<hr>"
   ]
  },
  {
   "cell_type": "markdown",
   "metadata": {},
   "source": [
    "Utilizando a API, o RMSE obtido encontra-se abaixo."
   ]
  },
  {
   "cell_type": "code",
   "execution_count": 24,
   "metadata": {},
   "outputs": [
    {
     "data": {
      "text/html": [
       "<div>\n",
       "<style scoped>\n",
       "    .dataframe tbody tr th:only-of-type {\n",
       "        vertical-align: middle;\n",
       "    }\n",
       "\n",
       "    .dataframe tbody tr th {\n",
       "        vertical-align: top;\n",
       "    }\n",
       "\n",
       "    .dataframe thead th {\n",
       "        text-align: right;\n",
       "    }\n",
       "</style>\n",
       "<table border=\"1\" class=\"dataframe\">\n",
       "  <thead>\n",
       "    <tr style=\"text-align: right;\">\n",
       "      <th></th>\n",
       "      <th>msg</th>\n",
       "      <th>arquivo teste</th>\n",
       "      <th>rmse</th>\n",
       "      <th>ids não encontrados</th>\n",
       "      <th>ids testados</th>\n",
       "      <th>total na tabela</th>\n",
       "      <th>Proporção testada</th>\n",
       "    </tr>\n",
       "  </thead>\n",
       "  <tbody>\n",
       "    <tr>\n",
       "      <th>0</th>\n",
       "      <td>Problemas!</td>\n",
       "      <td>teste-2024-05-16_08.json</td>\n",
       "      <td>3011.853153</td>\n",
       "      <td>0</td>\n",
       "      <td>156965</td>\n",
       "      <td>165541</td>\n",
       "      <td>94.82%</td>\n",
       "    </tr>\n",
       "    <tr>\n",
       "      <th>1</th>\n",
       "      <td>Problemas!</td>\n",
       "      <td>teste-2024-05-16_16.json</td>\n",
       "      <td>2998.117644</td>\n",
       "      <td>0</td>\n",
       "      <td>156337</td>\n",
       "      <td>162697</td>\n",
       "      <td>96.09%</td>\n",
       "    </tr>\n",
       "    <tr>\n",
       "      <th>2</th>\n",
       "      <td>Problemas!</td>\n",
       "      <td>teste-2024-05-17_07.json</td>\n",
       "      <td>3409.363729</td>\n",
       "      <td>0</td>\n",
       "      <td>137344</td>\n",
       "      <td>154806</td>\n",
       "      <td>88.72%</td>\n",
       "    </tr>\n",
       "    <tr>\n",
       "      <th>3</th>\n",
       "      <td>Problemas!</td>\n",
       "      <td>teste-2024-05-17_15.json</td>\n",
       "      <td>2961.225313</td>\n",
       "      <td>0</td>\n",
       "      <td>156758</td>\n",
       "      <td>162697</td>\n",
       "      <td>96.35%</td>\n",
       "    </tr>\n",
       "    <tr>\n",
       "      <th>4</th>\n",
       "      <td>Problemas!</td>\n",
       "      <td>teste-2024-05-18_12.json</td>\n",
       "      <td>2918.393054</td>\n",
       "      <td>0</td>\n",
       "      <td>123925</td>\n",
       "      <td>133500</td>\n",
       "      <td>92.83%</td>\n",
       "    </tr>\n",
       "    <tr>\n",
       "      <th>5</th>\n",
       "      <td>Problemas!</td>\n",
       "      <td>teste-2024-05-18_20.json</td>\n",
       "      <td>3045.289407</td>\n",
       "      <td>0</td>\n",
       "      <td>112142</td>\n",
       "      <td>117901</td>\n",
       "      <td>95.12%</td>\n",
       "    </tr>\n",
       "    <tr>\n",
       "      <th>6</th>\n",
       "      <td>Problemas!</td>\n",
       "      <td>teste-2024-05-19_11.json</td>\n",
       "      <td>3080.527565</td>\n",
       "      <td>0</td>\n",
       "      <td>87656</td>\n",
       "      <td>95734</td>\n",
       "      <td>91.56%</td>\n",
       "    </tr>\n",
       "    <tr>\n",
       "      <th>7</th>\n",
       "      <td>Problemas!</td>\n",
       "      <td>teste-2024-05-19_19.json</td>\n",
       "      <td>2958.340187</td>\n",
       "      <td>0</td>\n",
       "      <td>82685</td>\n",
       "      <td>89258</td>\n",
       "      <td>92.64%</td>\n",
       "    </tr>\n",
       "    <tr>\n",
       "      <th>8</th>\n",
       "      <td>Problemas!</td>\n",
       "      <td>teste-2024-05-20_09.json</td>\n",
       "      <td>2511.887960</td>\n",
       "      <td>0</td>\n",
       "      <td>160845</td>\n",
       "      <td>164537</td>\n",
       "      <td>97.76%</td>\n",
       "    </tr>\n",
       "    <tr>\n",
       "      <th>9</th>\n",
       "      <td>Problemas!</td>\n",
       "      <td>teste-2024-05-20_17.json</td>\n",
       "      <td>2723.160478</td>\n",
       "      <td>0</td>\n",
       "      <td>152422</td>\n",
       "      <td>158782</td>\n",
       "      <td>95.99%</td>\n",
       "    </tr>\n",
       "  </tbody>\n",
       "</table>\n",
       "</div>"
      ],
      "text/plain": [
       "          msg             arquivo teste         rmse  ids não encontrados  \\\n",
       "0  Problemas!  teste-2024-05-16_08.json  3011.853153                    0   \n",
       "1  Problemas!  teste-2024-05-16_16.json  2998.117644                    0   \n",
       "2  Problemas!  teste-2024-05-17_07.json  3409.363729                    0   \n",
       "3  Problemas!  teste-2024-05-17_15.json  2961.225313                    0   \n",
       "4  Problemas!  teste-2024-05-18_12.json  2918.393054                    0   \n",
       "5  Problemas!  teste-2024-05-18_20.json  3045.289407                    0   \n",
       "6  Problemas!  teste-2024-05-19_11.json  3080.527565                    0   \n",
       "7  Problemas!  teste-2024-05-19_19.json  2958.340187                    0   \n",
       "8  Problemas!  teste-2024-05-20_09.json  2511.887960                    0   \n",
       "9  Problemas!  teste-2024-05-20_17.json  2723.160478                    0   \n",
       "\n",
       "   ids testados  total na tabela Proporção testada  \n",
       "0        156965           165541            94.82%  \n",
       "1        156337           162697            96.09%  \n",
       "2        137344           154806            88.72%  \n",
       "3        156758           162697            96.35%  \n",
       "4        123925           133500            92.83%  \n",
       "5        112142           117901            95.12%  \n",
       "6         87656            95734            91.56%  \n",
       "7         82685            89258            92.64%  \n",
       "8        160845           164537            97.76%  \n",
       "9        152422           158782            95.99%  "
      ]
     },
     "metadata": {},
     "output_type": "display_data"
    },
    {
     "data": {
      "image/png": "[encoded data removed]",
      "text/plain": [
       "<Figure size 1400x600 with 1 Axes>"
      ]
     },
     "metadata": {},
     "output_type": "display_data"
    }
   ],
   "source": [
    "import pandas as pd\n",
    "import matplotlib.pyplot as plt\n",
    "\n",
    "file_path = 'api/results_predict_lat_long.csv'\n",
    "df = pd.read_csv(file_path, index_col=0)\n",
    "df['Proporção testada'] = ((df['ids testados'] / df['total na tabela']) * 100).apply(lambda x: f\"{x:.2f}%\")\n",
    "display(df)\n",
    "\n",
    "plt.figure(figsize=(14, 6))\n",
    "df['arquivo teste'] = df['arquivo teste'].str.replace('teste-', '', regex=False)\n",
    "df['arquivo teste'] = df['arquivo teste'].str.replace('.json', '', regex=False)\n",
    "plt.bar(df['arquivo teste'], df['rmse'], color='green')\n",
    "\n",
    "plt.xlabel('Arquivo Teste')\n",
    "plt.ylabel('RMSE (Metros)')\n",
    "plt.title('RMSE por Arquivo Teste - Previsão Latitude, Longitude')\n",
    "plt.xticks(rotation=45, ha='right')\n",
    "plt.grid(True, axis='y')\n",
    "\n",
    "# Show the plot\n",
    "plt.tight_layout()\n",
    "plt.show()"
   ]
  },
  {
   "cell_type": "markdown",
   "metadata": {},
   "source": [
    "Os resultados obtidos pela API são condizentes com o RMSE calculados localmente. O dia 17/05 é um sábado e o RMSE pode ter sido afetado por isso. Apesar disso, todos os dias mantiveram um RMSE parecido. A mensagem recebida da API foi de \"Problemas!\" pois nem todos os ids foram testados. Porém, isso se deve ao fato de que durante a previsão os outliers foram removidos (distante do trajeto) e suas previsões não calculadas. Mesmo assim, a proporção de teste pareceu boa, acima de 90% em quase todos os casos."
   ]
  },
  {
   "cell_type": "markdown",
   "metadata": {},
   "source": [
    "### 5.2 - Previsão dos timestamps"
   ]
  },
  {
   "cell_type": "markdown",
   "metadata": {},
   "source": [
    "Com os trajetos identificados, a próxima etapa foi prever os timestamps baseado na posição de cada ônibus para todas as linhas, usando as informações de 2 horas anteriores de trânsito. Para isso, executei os seguintes passos para cada linha:\n",
    "- Carreguei os dados dos trajetos do banco de dados e carreguei as informações sobre o trânsito nas duas horas anteriores.\n",
    "- A partir dos dados de treino, exclui todos os dados de ônibus que estavam fora de um raio de 60m do trajeto da linha. Portanto, alguns ônibus não fizeram parte da previsão. Estes, em sua maioria, eram ônibus fora do trajeto ou parados em garagens.\n",
    "- Ordenei o dataframe por identificador do ônibus e datahora, e mantive um rastreamento de cada ônibus nas horas anteriores. Para cada ponto encontrado, fiz a projeção do mesmo no trajeto correspondente (ida ou volta) e calculei iterativamente a distância percorrida em cada intervalo de tempo. Com esses dados, pude estimar as velocidades médias de ida e volta em cada um dos trajetos para a linha, além do tempo médio gasto nos pontos finais e iniciais.\n",
    "- Para prever o timestamp baseado na posiçaõ do ônibus, utilizei os dados anteriores de velocidade média no trajeto, tempo médio nas paradas e a última posição conhecida. A partir daí, fui calculando os timestamps a partir da velocidade média e a distância entre o último ponto e o ponto fornecido.\n",
    "- Portanto, se a última posição conhecida indica que o ônibus estava no trajeto de ida, usando a posição fornecida (projetada no trajeto) e a velocidade média calculada, obtive o tempo que o ônibus deveria ter levado para percorrer essa distância. Com os timestamps calculados, encontrei os próximos timestamps no trajeto de ida até que chegasse ao ponto final. Chegando ao ponto final, o timestamp é acrescido de 30s a cada iteração, já que aparentemente é o intervalo de envio dos dados ao servidor. Ao passar o tempo médio de parada, o ônibus troca de direção e a previsão de timestamp passa a ser feita da mesma forma, com o trajeto de volta.\n",
    "\n",
    "O código para essa parte do trabalho pode ser encontrado neste [notebook](./notebooks/predict_time.ipynb).\n",
    "\n",
    "Abaixo, seguem os resultados (RMSE) obtidos com esse modelo de previsão.\n",
    "\n",
    "<hr>"
   ]
  },
  {
   "cell_type": "markdown",
   "metadata": {},
   "source": [
    "Utilizando os dados disponibilizados inicialmente e com arquivo de resposta, calculei o RMSE localmente (sem usar a API). Dessa forma, consegui calcular o RMSE por linha de ônibus e obter um resultado mais direcionado."
   ]
  },
  {
   "cell_type": "markdown",
   "metadata": {},
   "source": [
    "![RMSE por datahora](img/RMSE_timestamp.png)"
   ]
  },
  {
   "cell_type": "markdown",
   "metadata": {},
   "source": [
    "![RMSE por linhas](img/RMSE_timestamp_linhas.png)"
   ]
  },
  {
   "cell_type": "markdown",
   "metadata": {},
   "source": [
    "Observando o gráfico acima, dividido por linhas, novamente percebemos duas linhas com RMSE mais alto: 3 e 388. \n",
    "- A primeira, explicada anteriormente. \n",
    "- A linha 388, assim como as linhas 2336 e 315, faz o trajeto centro x zona oeste(santa cruz). O trajeto longo pode ajudar a explicar o alto valor de erro para previsão do tempo.\n",
    "<hr>"
   ]
  },
  {
   "cell_type": "markdown",
   "metadata": {},
   "source": [
    "Utilizando a API, o RMSE obtido encontra-se abaixo."
   ]
  },
  {
   "cell_type": "code",
   "execution_count": 25,
   "metadata": {},
   "outputs": [
    {
     "data": {
      "text/html": [
       "<div>\n",
       "<style scoped>\n",
       "    .dataframe tbody tr th:only-of-type {\n",
       "        vertical-align: middle;\n",
       "    }\n",
       "\n",
       "    .dataframe tbody tr th {\n",
       "        vertical-align: top;\n",
       "    }\n",
       "\n",
       "    .dataframe thead th {\n",
       "        text-align: right;\n",
       "    }\n",
       "</style>\n",
       "<table border=\"1\" class=\"dataframe\">\n",
       "  <thead>\n",
       "    <tr style=\"text-align: right;\">\n",
       "      <th></th>\n",
       "      <th>msg</th>\n",
       "      <th>arquivo teste</th>\n",
       "      <th>rmse</th>\n",
       "      <th>ids não encontrados</th>\n",
       "      <th>ids testados</th>\n",
       "      <th>total na tabela</th>\n",
       "      <th>Proporção testada</th>\n",
       "    </tr>\n",
       "  </thead>\n",
       "  <tbody>\n",
       "    <tr>\n",
       "      <th>0</th>\n",
       "      <td>Problemas!</td>\n",
       "      <td>teste-2024-05-16_12.json</td>\n",
       "      <td>3434.810839</td>\n",
       "      <td>0</td>\n",
       "      <td>160960</td>\n",
       "      <td>163210</td>\n",
       "      <td>98.62%</td>\n",
       "    </tr>\n",
       "    <tr>\n",
       "      <th>1</th>\n",
       "      <td>Problemas!</td>\n",
       "      <td>teste-2024-05-16_20.json</td>\n",
       "      <td>4270.541292</td>\n",
       "      <td>0</td>\n",
       "      <td>160700</td>\n",
       "      <td>162676</td>\n",
       "      <td>98.79%</td>\n",
       "    </tr>\n",
       "    <tr>\n",
       "      <th>2</th>\n",
       "      <td>Problemas!</td>\n",
       "      <td>teste-2024-05-17_11.json</td>\n",
       "      <td>3558.742083</td>\n",
       "      <td>0</td>\n",
       "      <td>167022</td>\n",
       "      <td>168655</td>\n",
       "      <td>99.03%</td>\n",
       "    </tr>\n",
       "    <tr>\n",
       "      <th>3</th>\n",
       "      <td>Problemas!</td>\n",
       "      <td>teste-2024-05-17_19.json</td>\n",
       "      <td>4267.652467</td>\n",
       "      <td>0</td>\n",
       "      <td>158860</td>\n",
       "      <td>161894</td>\n",
       "      <td>98.13%</td>\n",
       "    </tr>\n",
       "    <tr>\n",
       "      <th>4</th>\n",
       "      <td>Problemas!</td>\n",
       "      <td>teste-2024-05-18_08.json</td>\n",
       "      <td>2818.139476</td>\n",
       "      <td>0</td>\n",
       "      <td>116586</td>\n",
       "      <td>126597</td>\n",
       "      <td>92.09%</td>\n",
       "    </tr>\n",
       "    <tr>\n",
       "      <th>5</th>\n",
       "      <td>Problemas!</td>\n",
       "      <td>teste-2024-05-18_16.json</td>\n",
       "      <td>3095.303884</td>\n",
       "      <td>0</td>\n",
       "      <td>115346</td>\n",
       "      <td>122920</td>\n",
       "      <td>93.84%</td>\n",
       "    </tr>\n",
       "    <tr>\n",
       "      <th>6</th>\n",
       "      <td>Problemas!</td>\n",
       "      <td>teste-2024-05-19_07.json</td>\n",
       "      <td>2695.778011</td>\n",
       "      <td>0</td>\n",
       "      <td>69132</td>\n",
       "      <td>86040</td>\n",
       "      <td>80.35%</td>\n",
       "    </tr>\n",
       "    <tr>\n",
       "      <th>7</th>\n",
       "      <td>Problemas!</td>\n",
       "      <td>teste-2024-05-19_15.json</td>\n",
       "      <td>3093.398396</td>\n",
       "      <td>0</td>\n",
       "      <td>83793</td>\n",
       "      <td>89757</td>\n",
       "      <td>93.36%</td>\n",
       "    </tr>\n",
       "    <tr>\n",
       "      <th>8</th>\n",
       "      <td>Problemas!</td>\n",
       "      <td>teste-2024-05-20_13.json</td>\n",
       "      <td>3176.677624</td>\n",
       "      <td>0</td>\n",
       "      <td>160195</td>\n",
       "      <td>162255</td>\n",
       "      <td>98.73%</td>\n",
       "    </tr>\n",
       "    <tr>\n",
       "      <th>9</th>\n",
       "      <td>Problemas!</td>\n",
       "      <td>teste-2024-05-20_21.json</td>\n",
       "      <td>3653.392196</td>\n",
       "      <td>0</td>\n",
       "      <td>142617</td>\n",
       "      <td>144778</td>\n",
       "      <td>98.51%</td>\n",
       "    </tr>\n",
       "  </tbody>\n",
       "</table>\n",
       "</div>"
      ],
      "text/plain": [
       "          msg             arquivo teste         rmse  ids não encontrados  \\\n",
       "0  Problemas!  teste-2024-05-16_12.json  3434.810839                    0   \n",
       "1  Problemas!  teste-2024-05-16_20.json  4270.541292                    0   \n",
       "2  Problemas!  teste-2024-05-17_11.json  3558.742083                    0   \n",
       "3  Problemas!  teste-2024-05-17_19.json  4267.652467                    0   \n",
       "4  Problemas!  teste-2024-05-18_08.json  2818.139476                    0   \n",
       "5  Problemas!  teste-2024-05-18_16.json  3095.303884                    0   \n",
       "6  Problemas!  teste-2024-05-19_07.json  2695.778011                    0   \n",
       "7  Problemas!  teste-2024-05-19_15.json  3093.398396                    0   \n",
       "8  Problemas!  teste-2024-05-20_13.json  3176.677624                    0   \n",
       "9  Problemas!  teste-2024-05-20_21.json  3653.392196                    0   \n",
       "\n",
       "   ids testados  total na tabela Proporção testada  \n",
       "0        160960           163210            98.62%  \n",
       "1        160700           162676            98.79%  \n",
       "2        167022           168655            99.03%  \n",
       "3        158860           161894            98.13%  \n",
       "4        116586           126597            92.09%  \n",
       "5        115346           122920            93.84%  \n",
       "6         69132            86040            80.35%  \n",
       "7         83793            89757            93.36%  \n",
       "8        160195           162255            98.73%  \n",
       "9        142617           144778            98.51%  "
      ]
     },
     "metadata": {},
     "output_type": "display_data"
    },
    {
     "data": {
      "image/png": "[encoded data removed]",
      "text/plain": [
       "<Figure size 1400x600 with 1 Axes>"
      ]
     },
     "metadata": {},
     "output_type": "display_data"
    }
   ],
   "source": [
    "import pandas as pd\n",
    "import matplotlib.pyplot as plt\n",
    "\n",
    "file_path = 'api/results_predict_datahora.csv'\n",
    "df = pd.read_csv(file_path, index_col=0)\n",
    "df['Proporção testada'] = ((df['ids testados'] / df['total na tabela']) * 100).apply(lambda x: f\"{x:.2f}%\")\n",
    "display(df)\n",
    "\n",
    "plt.figure(figsize=(14, 6))\n",
    "df['arquivo teste'] = df['arquivo teste'].str.replace('teste-', '', regex=False)\n",
    "df['arquivo teste'] = df['arquivo teste'].str.replace('.json', '', regex=False)\n",
    "plt.bar(df['arquivo teste'], df['rmse'], color='green')\n",
    "\n",
    "plt.xlabel('Arquivo Teste')\n",
    "plt.ylabel('RMSE (Segundos)')\n",
    "plt.title('RMSE por Arquivo Teste - Previsão timestamp')\n",
    "plt.xticks(rotation=45, ha='right')\n",
    "plt.grid(True, axis='y')\n",
    "\n",
    "# Show the plot\n",
    "plt.tight_layout()\n",
    "plt.show()"
   ]
  },
  {
   "cell_type": "markdown",
   "metadata": {},
   "source": [
    "Novamente, os resultados obtidos pela API são condizentes com o teste local. É interessante notar que os horários da noite, em geral tiveram um pior desempenho na previsão."
   ]
  },
  {
   "cell_type": "markdown",
   "metadata": {},
   "source": [
    "### 6 - Observações finais"
   ]
  },
  {
   "cell_type": "markdown",
   "metadata": {},
   "source": [
    "O presente trabalho forneceu um bom entendimento sobre diversos conceitos de mineração de dados, além de mostrar as dificuldades de trabalhar com grandes quantidades de dados, como foi este caso. Os resultados obtido parecem satisfatórios, levando em conta as limitações para a realização do trabalho. \n",
    "\n",
    "Ao analisar o resultado final, uma das possíveis melhorias seria criar um modelo mais fidedigno de velocidade, em vez de usar a velocidade média no trajeto inteiro. Se a velocidade média tivesse sido particionada em partes do trajeto, talvez o resultado fosse mais preciso.\n",
    "\n",
    "Além disso, foi interessante notar que a previsão piora conforme o tempo passa, já que para prever pontos mais distantes do último ponto conhecido, temos menos informações que nos permitam \"reposicionar\" o modelo no caminho correto. Por isso, em geral, as previsões mais próximas do último ponto conhecido são boas e pioram conforme o tempo passa."
   ]
  }
 ],
 "metadata": {
  "kernelspec": {
   "display_name": "venv",
   "language": "python",
   "name": "python3"
  },
  "language_info": {
   "codemirror_mode": {
    "name": "ipython",
    "version": 3
   },
   "file_extension": ".py",
   "mimetype": "text/x-python",
   "name": "python",
   "nbconvert_exporter": "python",
   "pygments_lexer": "ipython3",
   "version": "3.10.1"
  }
 },
 "nbformat": 4,
 "nbformat_minor": 2
}
