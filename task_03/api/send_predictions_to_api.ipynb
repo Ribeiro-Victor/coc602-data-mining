{
 "cells": [
  {
   "cell_type": "code",
   "execution_count": 2,
   "metadata": {},
   "outputs": [],
   "source": [
    "import requests\n",
    "import psycopg2\n",
    "import pandas as pd\n",
    "import json"
   ]
  },
  {
   "cell_type": "code",
   "execution_count": 10,
   "metadata": {},
   "outputs": [],
   "source": [
    "db_params = {\n",
    "    'host': 'localhost',\n",
    "    'database': 'gps_onibus_rj',\n",
    "    'user': 'postgres',\n",
    "    'password': 'admin'\n",
    "}\n",
    "\n",
    "def fetch_data(datahora_group, type):\n",
    "    conn = psycopg2.connect(**db_params)\n",
    "    cursor = conn.cursor()\n",
    "    \n",
    "    # Query to fetch data for the given datahora_group\n",
    "    if type == 'lat_long':\n",
    "        query = f\"SELECT id, latitude_predicted, longitude_predicted FROM predictions_made WHERE datahora_group = '{datahora_group}'\"\n",
    "    else:\n",
    "        query = f\"SELECT id, datahora_predicted FROM predictions_made WHERE datahora_group = '{datahora_group}'\"\n",
    "    cursor.execute(query)\n",
    "    rows = cursor.fetchall()\n",
    "    \n",
    "    conn.close()\n",
    "    return rows"
   ]
  },
  {
   "cell_type": "code",
   "execution_count": 4,
   "metadata": {},
   "outputs": [],
   "source": [
    "def make_post_request(datahora_group, previsoes):\n",
    "    payload = {\n",
    "        \"aluno\": \"Victor Ribeiro Alves\",\n",
    "        \"datahora\": datahora_group,\n",
    "        \"previsoes\": previsoes,\n",
    "        \"senha\": \"\"\n",
    "    }\n",
    "    \n",
    "    headers = {'Content-Type': 'application/json'}\n",
    "    response = requests.post(\"\", json=payload, headers=headers)\n",
    "    \n",
    "    if response.status_code == 200:\n",
    "        print(f\"POST request successful for {datahora_group}!\")\n",
    "        return response.text\n",
    "    else:\n",
    "        print(f\"POST request failed for {datahora_group} with status code: {response.status_code}\")\n",
    "        return response.text"
   ]
  },
  {
   "cell_type": "code",
   "execution_count": 5,
   "metadata": {},
   "outputs": [],
   "source": [
    "def save_lat_long_predictions():\n",
    "    datahora_group_list = ['2024-05-16_08', '2024-05-16_16',\n",
    "                        '2024-05-17_07', '2024-05-17_15',\n",
    "                        '2024-05-18_12', '2024-05-18_20',\n",
    "                        '2024-05-19_11', '2024-05-19_19',\n",
    "                        '2024-05-20_09', '2024-05-20_17']\n",
    "    responses_list = []\n",
    "    for datahora_group in datahora_group_list:\n",
    "        previsoes = fetch_data(datahora_group, 'lat_long')\n",
    "        avaliacao_response = make_post_request(datahora_group.replace('_', ' '), previsoes)\n",
    "        responses_list.append(avaliacao_response)\n",
    "    data_dicts = [json.loads(json_str) for json_str in responses_list]\n",
    "    pd.DataFrame(data_dicts).to_csv('results_predict_lat_long.csv')"
   ]
  },
  {
   "cell_type": "code",
   "execution_count": 13,
   "metadata": {},
   "outputs": [],
   "source": [
    "def save_datahora_predictions():\n",
    "    datahora_group_list = ['2024-05-16_12', '2024-05-16_20',\n",
    "                        '2024-05-17_11', '2024-05-17_19',\n",
    "                        '2024-05-18_08', '2024-05-18_16',\n",
    "                        '2024-05-19_07', '2024-05-19_15',\n",
    "                        '2024-05-20_13', '2024-05-20_21']\n",
    "    responses_list = []\n",
    "    for datahora_group in datahora_group_list:\n",
    "        previsoes = fetch_data(datahora_group, 'datahora')\n",
    "        avaliacao_response = make_post_request(datahora_group.replace('_', ' '), previsoes)\n",
    "        responses_list.append(avaliacao_response)\n",
    "    data_dicts = [json.loads(json_str) for json_str in responses_list]\n",
    "    pd.DataFrame(data_dicts).to_csv('results_predict_datahora.csv')"
   ]
  },
  {
   "cell_type": "code",
   "execution_count": 14,
   "metadata": {},
   "outputs": [
    {
     "name": "stdout",
     "output_type": "stream",
     "text": [
      "POST request successful for 2024-05-16 12!\n",
      "POST request successful for 2024-05-16 20!\n",
      "POST request successful for 2024-05-17 11!\n",
      "POST request successful for 2024-05-17 19!\n",
      "POST request successful for 2024-05-18 08!\n",
      "POST request successful for 2024-05-18 16!\n",
      "POST request successful for 2024-05-19 07!\n",
      "POST request successful for 2024-05-19 15!\n",
      "POST request successful for 2024-05-20 13!\n",
      "POST request successful for 2024-05-20 21!\n"
     ]
    }
   ],
   "source": [
    "save_datahora_predictions()"
   ]
  }
 ],
 "metadata": {
  "kernelspec": {
   "display_name": "venv",
   "language": "python",
   "name": "python3"
  },
  "language_info": {
   "codemirror_mode": {
    "name": "ipython",
    "version": 3
   },
   "file_extension": ".py",
   "mimetype": "text/x-python",
   "name": "python",
   "nbconvert_exporter": "python",
   "pygments_lexer": "ipython3",
   "version": "3.10.1"
  }
 },
 "nbformat": 4,
 "nbformat_minor": 2
}
